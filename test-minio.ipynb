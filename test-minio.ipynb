{
 "cells": [
  {
   "cell_type": "code",
   "execution_count": 1,
   "id": "57671039",
   "metadata": {},
   "outputs": [],
   "source": [
    "from minio import Minio\n",
    "\n",
    "minio_client = Minio(\n",
    "    endpoint = 'minio:9000',\n",
    "    access_key = 'hugo',\n",
    "    secret_key = 'Strong#Pass#2022',\n",
    "    secure=False\n",
    ")\n",
    "\n",
    "minio_client.make_bucket('testing-bucket')"
   ]
  },
  {
   "cell_type": "code",
   "execution_count": 17,
   "id": "fecd95c5",
   "metadata": {},
   "outputs": [
    {
     "data": {
      "text/plain": [
       "<minio.helpers.ObjectWriteResult at 0x403a138e50>"
      ]
     },
     "execution_count": 17,
     "metadata": {},
     "output_type": "execute_result"
    }
   ],
   "source": [
    "minio_client.fput_object(\n",
    "    bucket_name = 'testing-bucket',\n",
    "    object_name = 'schema.md',\n",
    "    file_path = 'dataset/schema.md'\n",
    ")"
   ]
  },
  {
   "cell_type": "code",
   "execution_count": 9,
   "id": "59e26697",
   "metadata": {},
   "outputs": [
    {
     "name": "stdout",
     "output_type": "stream",
     "text": [
      "500000-Sales-Records.zip  Fire_Department_Calls_for_Service.zip  schema.md\r\n"
     ]
    }
   ],
   "source": [
    "!ls dataset/"
   ]
  }
 ],
 "metadata": {
  "kernelspec": {
   "display_name": "Python 3",
   "language": "python",
   "name": "python3"
  },
  "language_info": {
   "codemirror_mode": {
    "name": "ipython",
    "version": 3
   },
   "file_extension": ".py",
   "mimetype": "text/x-python",
   "name": "python",
   "nbconvert_exporter": "python",
   "pygments_lexer": "ipython3",
   "version": "3.9.2"
  }
 },
 "nbformat": 4,
 "nbformat_minor": 5
}
